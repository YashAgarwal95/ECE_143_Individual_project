{
 "cells": [
  {
   "cell_type": "markdown",
   "metadata": {},
   "source": [
    "First we import all the libraries that we will be needing"
   ]
  },
  {
   "cell_type": "code",
   "execution_count": 1,
   "metadata": {
    "collapsed": true
   },
   "outputs": [],
   "source": [
    "import matplotlib.patches as patches\n",
    "from matplotlib.pylab import subplots\n",
    "import matplotlib.pyplot as plt\n",
    "import random\n",
    "import math\n",
    "import numpy as np"
   ]
  },
  {
   "cell_type": "markdown",
   "metadata": {},
   "source": [
    "========================================================================================================================="
   ]
  },
  {
   "cell_type": "markdown",
   "metadata": {},
   "source": [
    "We define functions to randomly generate the width, height and top left corner co-ordinates"
   ]
  },
  {
   "cell_type": "code",
   "execution_count": 2,
   "metadata": {
    "collapsed": true
   },
   "outputs": [],
   "source": [
    "def random_width():\n",
    "    '''\n",
    "    Returns a random integer width between (including)\n",
    "    1 and the area width\n",
    "    '''\n",
    "    return random.randint(1,Area_width)\n",
    "\n",
    "def random_height():\n",
    "    '''\n",
    "    Returns a random integer width between (including)\n",
    "    1 and the area height\n",
    "    '''\n",
    "    return random.randint(1,Area_height)\n",
    "\n",
    "def top_left(obj):\n",
    "    '''\n",
    "    Takes into account the width and height of the rectangle and then\n",
    "    returns a tuple with random integers for the x and y co-ordinates of the top left corner of the rectangle \n",
    "    '''\n",
    "    min_x = 0\n",
    "    max_x = Area_width - obj.width\n",
    "    min_y = obj.height\n",
    "    max_y = Area_height\n",
    "    return (random.randint(min_x,max_x),random.randint(min_y,max_y))"
   ]
  },
  {
   "cell_type": "markdown",
   "metadata": {},
   "source": [
    "We define a function to Crop our generated rectangles to the maximum area non-overlapping rectangles"
   ]
  },
  {
   "cell_type": "code",
   "execution_count": 3,
   "metadata": {
    "collapsed": true
   },
   "outputs": [],
   "source": [
    "def Rectangle_Crop(rectangle):\n",
    "    '''\n",
    "    Takes as input a new rectangle object.\n",
    "    Creates all possible sub-rectangles within the input rectangle.\n",
    "    Checks if the sub-rectangles overlap with any of the existing rectangles.\n",
    "    Returns the new width, new height, new bottom left co-ordinates, new top left co-ordinates, \n",
    "    and area of largest non-overalpping sub-rectangle\n",
    "    '''\n",
    "    max_area = 0 # Max Sub-Rectangle area initialized to 0\n",
    "    new_width = rectangle.width\n",
    "    new_height = rectangle.height\n",
    "    new_bottom_left = rectangle.bottom_left\n",
    "    new_top_left = rectangle.top_left\n",
    "    for i in range(rectangle.bottom_left[0],rectangle.bottom_left[0]+rectangle.width):           # Starting x coordinate\n",
    "        \n",
    "        for j in range(rectangle.bottom_left[1],rectangle.bottom_left[1]+rectangle.height):      #Starting y coordinate\n",
    "            \n",
    "            for k in range(1,rectangle.width-(i-rectangle.bottom_left[0])+1):                    #Ending x coordinate\n",
    "                \n",
    "                for l in range(1,rectangle.height-(j-rectangle.bottom_left[1])+1):               #Ending y coordinate\n",
    "                    \n",
    "                    if sum(map(sum, mask[mask.shape[0]-(j+l):mask.shape[0]-j,i:i+k])) == 0:      #Checking that the sub-rectangle doesn't overlap any existing rectangle\n",
    "                        \n",
    "                        if k*l > max_area:                                                       #Checking if sub-rectangle area is greater than current max area\n",
    "                            new_width,new_height,new_bottom_left,new_top_left = k,l,(i,j),(i,j+l)\n",
    "                            max_area = k*l\n",
    "    return new_width,new_height,new_bottom_left,new_top_left,max_area"
   ]
  },
  {
   "cell_type": "markdown",
   "metadata": {},
   "source": [
    "We define a class rectangle to make objects representing the Towers"
   ]
  },
  {
   "cell_type": "code",
   "execution_count": 4,
   "metadata": {},
   "outputs": [],
   "source": [
    "class rectangle(object):\n",
    "    '''\n",
    "    Objects of this class represent the communication towers on the grid.\n",
    "    They have width, height,top left corner co-ordiantes and bottom left corner co-ordinates as attributes.\n",
    "    They have a Max_Crop method which crops them such that they become the maximum area non-overlapping \n",
    "     sub-rectangle that could be made from the original.\n",
    "    They have a mask method that updates the mask matrix with 1's after the object has been cropped.\n",
    "    They also have area and data methods which return the area and data respectively.\n",
    "    '''\n",
    "    \n",
    "    def __init__(self, crop = True):\n",
    "        '''\n",
    "        Initializes random values for the width,height and top_left corner.\n",
    "        Also calls Max_Crop and mask.\n",
    "        '''\n",
    "        self.width = random_width()\n",
    "        self.height = random_height()\n",
    "        self.top_left = top_left(self)\n",
    "        self.bottom_left = (self.top_left[0],self.top_left[1]-self.height)\n",
    "        if crop:\n",
    "            self.Max_Crop()\n",
    "            self.mask()\n",
    "\n",
    "    def mask(self):\n",
    "        '''\n",
    "        Updates the relevant values to 1 in the mask matrix.\n",
    "        '''\n",
    "        for i in range(self.bottom_left[0],self.bottom_left[0]+self.width):\n",
    "            for j in range (Area_height - self.top_left[1],Area_height - self.bottom_left[1]):\n",
    "                mask[j][i] = 1\n",
    "    \n",
    "    def Max_Crop(self):\n",
    "        '''\n",
    "        Crops the rectangle to the maximum area non-overlapping rectanlge.\n",
    "        '''\n",
    "#         print(\"Max Cropping\")\n",
    "        self.width,self.height,self.bottom_left,self.top_left,self.max_area = Rectangle_Crop(self) #updating trimmed values\n",
    "        if self.max_area == 0:    # If the rectangle is completely inside a covered area, new attributes are generated\n",
    "            self.width = random_width()\n",
    "            self.height = random_height()\n",
    "            self.top_left = top_left(self)\n",
    "            self.bottom_left = (self.top_left[0],self.top_left[1]-self.height)\n",
    "            self.Max_Crop() \n",
    "                \n",
    "    def area(self):\n",
    "        '''\n",
    "        Returns area of the rectangle\n",
    "        '''\n",
    "        return self.width*self.height\n",
    "    \n",
    "    def data(self):\n",
    "        '''\n",
    "        Prints the top-left corner co-ordinate, width, height and area of the rectangle.\n",
    "        '''\n",
    "        print(\"Top Left : \", self.top_left)\n",
    "        print(\"Width : \", self.width)\n",
    "        print(\"Height : \",self.height)\n",
    "        print(\"Area : \",self.area())"
   ]
  },
  {
   "cell_type": "markdown",
   "metadata": {},
   "source": [
    "We define a function which returns the resolved area and ratio of resolved to total area"
   ]
  },
  {
   "cell_type": "code",
   "execution_count": 5,
   "metadata": {
    "collapsed": true
   },
   "outputs": [],
   "source": [
    "def Resolved_Area():\n",
    "    '''\n",
    "    Returns a tuple containing the area covered by the towers and the ratio of covered to total area\n",
    "    '''\n",
    "    total_area = Area_height*Area_width\n",
    "    covered_area = 0\n",
    "    for tower in Towers:\n",
    "        covered_area += tower.area()\n",
    "    return (covered_area,covered_area/total_area)"
   ]
  },
  {
   "cell_type": "markdown",
   "metadata": {},
   "source": [
    "We define a function to see how many towers it takes to cover the entire area"
   ]
  },
  {
   "cell_type": "code",
   "execution_count": 6,
   "metadata": {
    "collapsed": true
   },
   "outputs": [],
   "source": [
    "def full_coverage():\n",
    "    '''\n",
    "    Creates rectangles till the entire area is covered by rectanges.\n",
    "    This means there are no regions without coverage left in the area.\n",
    "    '''\n",
    "    while Resolved_Area()[1] != 1:\n",
    "        tower_populate(10)\n",
    "    print(\"Total Area Covered by \",len(Towers),\" Towers\")\n",
    "    print(\"----------------------------------------------------------------------------------\")\n",
    "    "
   ]
  },
  {
   "cell_type": "markdown",
   "metadata": {},
   "source": [
    "We define a function to return a random color from a list of colors to fill in the rectangles"
   ]
  },
  {
   "cell_type": "code",
   "execution_count": 7,
   "metadata": {
    "collapsed": true
   },
   "outputs": [],
   "source": [
    "def random_color():\n",
    "    '''\n",
    "    Returns a random color from the list containing \n",
    "    Blue, green, red, cyan, magenta, yellow and black\n",
    "    '''\n",
    "    color_list = ['b', 'g', 'r', 'c', 'm', 'y', 'k']\n",
    "    return random.choice(color_list)"
   ]
  },
  {
   "cell_type": "markdown",
   "metadata": {},
   "source": [
    "We define a function for populating our list of rectangle objects passing the number of rectangles to be created as the argument"
   ]
  },
  {
   "cell_type": "code",
   "execution_count": 8,
   "metadata": {
    "collapsed": true
   },
   "outputs": [],
   "source": [
    "def tower_populate(n):  \n",
    "    '''\n",
    "    Creates Rectangle Objects and adds them to the list of Towers.\n",
    "    The number of rectangles created are either the value stored in Number_of_towers or till the entire area is covered.\n",
    "    '''\n",
    "    for i in range(n):\n",
    "        if Resolved_Area()[1] == 1:   # We dont want to create towers if the entire area is already covered\n",
    "            print(len(Towers),\"Towers created\\nResolved Area Ratio = 1.00\\nCannot Create more Towers\")\n",
    "            print(\"----------------------------------------------------------------------------------\")\n",
    "            break\n",
    "        else:\n",
    "            Towers.append(rectangle())"
   ]
  },
  {
   "cell_type": "markdown",
   "metadata": {},
   "source": [
    "We define a function for plotting the state of the area under consideration"
   ]
  },
  {
   "cell_type": "code",
   "execution_count": 9,
   "metadata": {
    "collapsed": true
   },
   "outputs": [],
   "source": [
    "def plotting(list_of_towers,example = False):\n",
    "    '''\n",
    "    This function is used for plotting the rectangles on the given area.\n",
    "    The color of the towers and their transparency are random. \n",
    "    '''\n",
    "    color_list = ['b', 'g', 'r', 'c', 'm', 'y', 'k']\n",
    "    fig,ax = subplots()\n",
    "    if example == True:\n",
    "        i = 0\n",
    "        for tower in list_of_towers:   \n",
    "            ax.add_patch(patches.Rectangle((tower.top_left[0],(tower.top_left[1]-tower.height)),tower.width,tower.height,color = color_list[i] ,alpha=0.7)) # alpha is transparency\n",
    "            i += 1\n",
    "        ax.axis([0,Area_width,0,Area_height])\n",
    "    else:\n",
    "        for tower in list_of_towers:   \n",
    "            ax.add_patch(patches.Rectangle((tower.top_left[0],(tower.top_left[1]-tower.height)),tower.width,tower.height,color = random_color() ,alpha=random.uniform(0.3,0.9))) # alpha is transparency\n",
    "        ax.axis([0,Area_width,0,Area_height])\n",
    "        # ax.grid('on')\n",
    "    return fig"
   ]
  },
  {
   "cell_type": "markdown",
   "metadata": {},
   "source": [
    "========================================================================================================================\n",
    "First we show the cropping in action.\n",
    "We will generate 5 random rectangles to do this.\n",
    "If by chance there are no overlapping rectangles among these 5, please run the script from this cell again. "
   ]
  },
  {
   "cell_type": "code",
   "execution_count": 10,
   "metadata": {},
   "outputs": [],
   "source": [
    "Area_height,Area_width = 10,10\n",
    "mask = np.zeros((Area_height,Area_width))\n",
    "example_list = []"
   ]
  },
  {
   "cell_type": "code",
   "execution_count": 11,
   "metadata": {},
   "outputs": [
    {
     "data": {
      "image/png": "[encoded data removed]",
      "text/plain": [
       "<matplotlib.figure.Figure at 0x23adc10c160>"
      ]
     },
     "execution_count": 11,
     "metadata": {},
     "output_type": "execute_result"
    }
   ],
   "source": [
    "example_list.append(rectangle(crop = False))\n",
    "plotting(example_list,example = True)"
   ]
  },
  {
   "cell_type": "markdown",
   "metadata": {},
   "source": [
    "Above is the first rectangle generated"
   ]
  },
  {
   "cell_type": "code",
   "execution_count": 12,
   "metadata": {},
   "outputs": [
    {
     "data": {
      "image/png": "[encoded data removed]",
      "text/plain": [
       "<matplotlib.figure.Figure at 0x23ae5fcbcf8>"
      ]
     },
     "execution_count": 12,
     "metadata": {},
     "output_type": "execute_result"
    }
   ],
   "source": [
    "example_list[0].mask()\n",
    "example_list.append(rectangle(crop = False))\n",
    "plotting(example_list, example = True)"
   ]
  },
  {
   "cell_type": "markdown",
   "metadata": {},
   "source": [
    "Above is the first and second generated rectangles without cropping\n",
    "\n",
    "NOTE : If a newly generated rectangle is completely covered by previous rectangles, its attributes are re-initialized when we crop."
   ]
  },
  {
   "cell_type": "code",
   "execution_count": 13,
   "metadata": {},
   "outputs": [],
   "source": [
    "example_list[1].Max_Crop()"
   ]
  },
  {
   "cell_type": "code",
   "execution_count": 14,
   "metadata": {},
   "outputs": [
    {
     "data": {
      "image/png": "[encoded data removed]",
      "text/plain": [
       "<matplotlib.figure.Figure at 0x23ae618bc88>"
      ]
     },
     "execution_count": 14,
     "metadata": {},
     "output_type": "execute_result"
    }
   ],
   "source": [
    "example_list[1].mask()\n",
    "plotting(example_list, example = True)"
   ]
  },
  {
   "cell_type": "markdown",
   "metadata": {},
   "source": [
    "Above is the first and second generated rectangles with cropping"
   ]
  },
  {
   "cell_type": "code",
   "execution_count": 15,
   "metadata": {},
   "outputs": [
    {
     "data": {
      "image/png": "[encoded data removed]",
      "text/plain": [
       "<matplotlib.figure.Figure at 0x23ae621df28>"
      ]
     },
     "execution_count": 15,
     "metadata": {},
     "output_type": "execute_result"
    }
   ],
   "source": [
    "example_list.append(rectangle(crop = False))\n",
    "plotting(example_list, example = True)"
   ]
  },
  {
   "cell_type": "markdown",
   "metadata": {},
   "source": [
    "Above is the first,second and third generated rectangles without cropping\n",
    "\n",
    "NOTE : If a newly generated rectangle is completely covered by previous rectangles, its attributes are re-initialized when we crop."
   ]
  },
  {
   "cell_type": "code",
   "execution_count": 16,
   "metadata": {
    "collapsed": true
   },
   "outputs": [],
   "source": [
    "example_list[2].Max_Crop()"
   ]
  },
  {
   "cell_type": "code",
   "execution_count": 17,
   "metadata": {},
   "outputs": [
    {
     "data": {
      "image/png": "[encoded data removed]",
      "text/plain": [
       "<matplotlib.figure.Figure at 0x23ae62aadd8>"
      ]
     },
     "execution_count": 17,
     "metadata": {},
     "output_type": "execute_result"
    }
   ],
   "source": [
    "example_list[2].mask()\n",
    "plotting(example_list, example = True)"
   ]
  },
  {
   "cell_type": "code",
   "execution_count": 18,
   "metadata": {},
   "outputs": [
    {
     "data": {
      "image/png": "[encoded data removed]",
      "text/plain": [
       "<matplotlib.figure.Figure at 0x23ae63086d8>"
      ]
     },
     "execution_count": 18,
     "metadata": {},
     "output_type": "execute_result"
    }
   ],
   "source": [
    "example_list.append(rectangle(crop = False))\n",
    "plotting(example_list, example = True)"
   ]
  },
  {
   "cell_type": "markdown",
   "metadata": {},
   "source": [
    "Above is the first,second,third and fourth generated rectangles without cropping.\n",
    "\n",
    "NOTE: If a newly generated rectangle is completely covered by previous rectangles, its attributes are re-initialized when we crop."
   ]
  },
  {
   "cell_type": "code",
   "execution_count": 19,
   "metadata": {
    "collapsed": true
   },
   "outputs": [],
   "source": [
    "example_list[3].Max_Crop()"
   ]
  },
  {
   "cell_type": "code",
   "execution_count": 20,
   "metadata": {},
   "outputs": [
    {
     "data": {
      "image/png": "[encoded data removed]",
      "text/plain": [
       "<matplotlib.figure.Figure at 0x23ae63e4b70>"
      ]
     },
     "execution_count": 20,
     "metadata": {},
     "output_type": "execute_result"
    }
   ],
   "source": [
    "example_list[3].mask()\n",
    "plotting(example_list, example = True)"
   ]
  },
  {
   "cell_type": "code",
   "execution_count": 21,
   "metadata": {},
   "outputs": [
    {
     "data": {
      "image/png": "[encoded data removed]",
      "text/plain": [
       "<matplotlib.figure.Figure at 0x23ae6471eb8>"
      ]
     },
     "execution_count": 21,
     "metadata": {},
     "output_type": "execute_result"
    }
   ],
   "source": [
    "example_list.append(rectangle(crop = False))\n",
    "plotting(example_list, example = True)"
   ]
  },
  {
   "cell_type": "markdown",
   "metadata": {},
   "source": [
    "Above is the first,second,third,fourth and fifth generated rectangles without cropping.\n",
    "\n",
    "NOTE : If a newly generated rectangle is completely covered by previous rectangles, its attributes are re-initialized when we crop."
   ]
  },
  {
   "cell_type": "code",
   "execution_count": 22,
   "metadata": {
    "collapsed": true
   },
   "outputs": [],
   "source": [
    "example_list[4].Max_Crop()"
   ]
  },
  {
   "cell_type": "code",
   "execution_count": 23,
   "metadata": {},
   "outputs": [
    {
     "data": {
      "image/png": "[encoded data removed]",
      "text/plain": [
       "<matplotlib.figure.Figure at 0x23ae6517f28>"
      ]
     },
     "execution_count": 23,
     "metadata": {},
     "output_type": "execute_result"
    }
   ],
   "source": [
    "example_list[4].mask()\n",
    "plotting(example_list, example = True)"
   ]
  },
  {
   "cell_type": "markdown",
   "metadata": {},
   "source": [
    "We see the 5 rectangles with max cropping applied in sequence above"
   ]
  },
  {
   "cell_type": "markdown",
   "metadata": {},
   "source": [
    "========================================================================================================================"
   ]
  },
  {
   "cell_type": "markdown",
   "metadata": {},
   "source": [
    "Now to answer the First Question \"Given an overall desired coverage footprint and a sequence of n communications\n",
    "towers, what is the resulting resolved coverage?\""
   ]
  },
  {
   "cell_type": "markdown",
   "metadata": {},
   "source": [
    "========================================================================================================================="
   ]
  },
  {
   "cell_type": "markdown",
   "metadata": {},
   "source": [
    "We take the inputs for the Region Width, Region Height and Number of Towers"
   ]
  },
  {
   "cell_type": "markdown",
   "metadata": {},
   "source": [
    "Note : It is advisable to use small input sizes for the width and height as the running time of the algorithm is proportional to the product of squares of both these values. Suggested Values are 10,10"
   ]
  },
  {
   "cell_type": "code",
   "execution_count": 24,
   "metadata": {},
   "outputs": [
    {
     "name": "stdout",
     "output_type": "stream",
     "text": [
      "Input Region Width(integer value) ? \n",
      "10\n"
     ]
    }
   ],
   "source": [
    "while True:\n",
    "    try:\n",
    "        Area_width = int(input(\"Input Region Width(integer value) ? \\n\"))\n",
    "        assert Area_width > 0\n",
    "        break\n",
    "    except:\n",
    "        print(\"Please input a positive integer value\")"
   ]
  },
  {
   "cell_type": "code",
   "execution_count": 25,
   "metadata": {},
   "outputs": [
    {
     "name": "stdout",
     "output_type": "stream",
     "text": [
      "Input Region height(positive integer value) ? \n",
      "10\n"
     ]
    }
   ],
   "source": [
    "while True:\n",
    "    try:\n",
    "        Area_height = int(input(\"Input Region height(positive integer value) ? \\n\"))\n",
    "        assert Area_height > 0\n",
    "        break\n",
    "    except:\n",
    "        print(\"Please input a positive integer value\")"
   ]
  },
  {
   "cell_type": "code",
   "execution_count": 26,
   "metadata": {},
   "outputs": [
    {
     "name": "stdout",
     "output_type": "stream",
     "text": [
      "Input Number_of_towers(positive integer value) ? \n",
      "10\n"
     ]
    }
   ],
   "source": [
    "while True:\n",
    "    try:\n",
    "        Number_of_towers = int(input(\"Input Number_of_towers(positive integer value) ? \\n\"))\n",
    "        assert Number_of_towers > 0\n",
    "        break\n",
    "    except:\n",
    "        print(\"Please input a positive integer value\")"
   ]
  },
  {
   "cell_type": "markdown",
   "metadata": {},
   "source": [
    "We define a matrix named \"mask\" which has 0's for every unit \n",
    "square in the grid that is not under tower coverage and 1's if \n",
    "it is under tower coverage."
   ]
  },
  {
   "cell_type": "markdown",
   "metadata": {},
   "source": [
    "This mask matrix makes it easy to check if and where new towers are overlapping with previous towers."
   ]
  },
  {
   "cell_type": "markdown",
   "metadata": {},
   "source": [
    "We just need to see if there are any 1's in the same positions in mask as the new tower under question, and if there is it means that there is some overlap with a previously existing tower"
   ]
  },
  {
   "cell_type": "code",
   "execution_count": 27,
   "metadata": {},
   "outputs": [],
   "source": [
    "mask = np.zeros((Area_height,Area_width))"
   ]
  },
  {
   "cell_type": "code",
   "execution_count": 28,
   "metadata": {},
   "outputs": [
    {
     "data": {
      "text/plain": [
       "array([[0., 0., 0., 0., 0., 0., 0., 0., 0., 0.],\n",
       "       [0., 0., 0., 0., 0., 0., 0., 0., 0., 0.],\n",
       "       [0., 0., 0., 0., 0., 0., 0., 0., 0., 0.],\n",
       "       [0., 0., 0., 0., 0., 0., 0., 0., 0., 0.],\n",
       "       [0., 0., 0., 0., 0., 0., 0., 0., 0., 0.],\n",
       "       [0., 0., 0., 0., 0., 0., 0., 0., 0., 0.],\n",
       "       [0., 0., 0., 0., 0., 0., 0., 0., 0., 0.],\n",
       "       [0., 0., 0., 0., 0., 0., 0., 0., 0., 0.],\n",
       "       [0., 0., 0., 0., 0., 0., 0., 0., 0., 0.],\n",
       "       [0., 0., 0., 0., 0., 0., 0., 0., 0., 0.]])"
      ]
     },
     "execution_count": 28,
     "metadata": {},
     "output_type": "execute_result"
    }
   ],
   "source": [
    "mask"
   ]
  },
  {
   "cell_type": "markdown",
   "metadata": {},
   "source": [
    "For example run the following cells"
   ]
  },
  {
   "cell_type": "code",
   "execution_count": 29,
   "metadata": {},
   "outputs": [],
   "source": [
    "Towers = []\n",
    "Towers.append(rectangle())"
   ]
  },
  {
   "cell_type": "code",
   "execution_count": 30,
   "metadata": {},
   "outputs": [
    {
     "name": "stdout",
     "output_type": "stream",
     "text": [
      "Top Left :  (0, 10)\n",
      "Width :  3\n",
      "Height :  9\n",
      "Area :  27\n"
     ]
    },
    {
     "data": {
      "image/png": "[encoded data removed]",
      "text/plain": [
       "<matplotlib.figure.Figure at 0x23ae64bfb70>"
      ]
     },
     "execution_count": 30,
     "metadata": {},
     "output_type": "execute_result"
    }
   ],
   "source": [
    "fig,ax = subplots()\n",
    "for tower in Towers:   \n",
    "    tower.data()\n",
    "    ax.add_patch(patches.Rectangle((tower.top_left[0],(tower.top_left[1]-tower.height)),tower.width,tower.height,color = random_color() ,alpha=random.uniform(0.4,0.7))) # alpha is transparency\n",
    "ax.axis([0,Area_width,0,Area_height])\n",
    "fig"
   ]
  },
  {
   "cell_type": "markdown",
   "metadata": {},
   "source": [
    "The corresponding mask is"
   ]
  },
  {
   "cell_type": "code",
   "execution_count": 31,
   "metadata": {
    "scrolled": true
   },
   "outputs": [
    {
     "data": {
      "text/plain": [
       "array([[1., 1., 1., 0., 0., 0., 0., 0., 0., 0.],\n",
       "       [1., 1., 1., 0., 0., 0., 0., 0., 0., 0.],\n",
       "       [1., 1., 1., 0., 0., 0., 0., 0., 0., 0.],\n",
       "       [1., 1., 1., 0., 0., 0., 0., 0., 0., 0.],\n",
       "       [1., 1., 1., 0., 0., 0., 0., 0., 0., 0.],\n",
       "       [1., 1., 1., 0., 0., 0., 0., 0., 0., 0.],\n",
       "       [1., 1., 1., 0., 0., 0., 0., 0., 0., 0.],\n",
       "       [1., 1., 1., 0., 0., 0., 0., 0., 0., 0.],\n",
       "       [1., 1., 1., 0., 0., 0., 0., 0., 0., 0.],\n",
       "       [0., 0., 0., 0., 0., 0., 0., 0., 0., 0.]])"
      ]
     },
     "execution_count": 31,
     "metadata": {},
     "output_type": "execute_result"
    }
   ],
   "source": [
    "mask"
   ]
  },
  {
   "cell_type": "code",
   "execution_count": 32,
   "metadata": {},
   "outputs": [],
   "source": [
    "mask = np.zeros((Area_height,Area_width))\n",
    "Towers = []"
   ]
  },
  {
   "cell_type": "markdown",
   "metadata": {},
   "source": [
    "=======================================================================================================================\n",
    "Now we see what happens when we place n communication towers on the coverage area you specified"
   ]
  },
  {
   "cell_type": "code",
   "execution_count": 33,
   "metadata": {},
   "outputs": [
    {
     "name": "stdout",
     "output_type": "stream",
     "text": [
      "9 Towers created\n",
      "Resolved Area Ratio = 1.00\n",
      "Cannot Create more Towers\n",
      "----------------------------------------------------------------------------------\n"
     ]
    }
   ],
   "source": [
    "tower_populate(Number_of_towers)"
   ]
  },
  {
   "cell_type": "markdown",
   "metadata": {},
   "source": [
    "The resulting coverage looks as follows"
   ]
  },
  {
   "cell_type": "code",
   "execution_count": 34,
   "metadata": {},
   "outputs": [
    {
     "data": {
      "image/png": "[encoded data removed]",
      "text/plain": [
       "<matplotlib.figure.Figure at 0x23ae65bf240>"
      ]
     },
     "execution_count": 34,
     "metadata": {},
     "output_type": "execute_result"
    }
   ],
   "source": [
    "plotting(Towers)"
   ]
  },
  {
   "cell_type": "markdown",
   "metadata": {},
   "source": [
    "The Resolved Coverage is"
   ]
  },
  {
   "cell_type": "code",
   "execution_count": 35,
   "metadata": {},
   "outputs": [
    {
     "data": {
      "text/plain": [
       "100"
      ]
     },
     "execution_count": 35,
     "metadata": {},
     "output_type": "execute_result"
    }
   ],
   "source": [
    "Resolved_Area()[0]"
   ]
  },
  {
   "cell_type": "markdown",
   "metadata": {},
   "source": [
    "The total area of coverage relative to the desired total coverage area of the original footprint is"
   ]
  },
  {
   "cell_type": "code",
   "execution_count": 36,
   "metadata": {},
   "outputs": [
    {
     "data": {
      "text/plain": [
       "1.0"
      ]
     },
     "execution_count": 36,
     "metadata": {},
     "output_type": "execute_result"
    }
   ],
   "source": [
    "Resolved_Area()[1]"
   ]
  },
  {
   "cell_type": "markdown",
   "metadata": {},
   "source": [
    "Are there any gaps in the coverage?"
   ]
  },
  {
   "cell_type": "code",
   "execution_count": 37,
   "metadata": {},
   "outputs": [
    {
     "name": "stdout",
     "output_type": "stream",
     "text": [
      "No Gaps in the coverage\n"
     ]
    }
   ],
   "source": [
    "if Resolved_Area()[1] == 1:\n",
    "    print(\"No Gaps in the coverage\")\n",
    "else:\n",
    "    print(\"Yes there are gaps in the coverage\")"
   ]
  },
  {
   "cell_type": "markdown",
   "metadata": {},
   "source": [
    "To check how \"On average, how many communications towers are required before full coverage is\n",
    "obtained\" we run full_coverage 150 times and see the average number of towers it took to cover the given area"
   ]
  },
  {
   "cell_type": "code",
   "execution_count": 38,
   "metadata": {},
   "outputs": [
    {
     "name": "stdout",
     "output_type": "stream",
     "text": [
      "25 Towers created\n",
      "Resolved Area Ratio = 1.00\n",
      "Cannot Create more Towers\n",
      "----------------------------------------------------------------------------------\n",
      "Total Area Covered by  25  Towers\n",
      "----------------------------------------------------------------------------------\n",
      "15 Towers created\n",
      "Resolved Area Ratio = 1.00\n",
      "Cannot Create more Towers\n",
      "----------------------------------------------------------------------------------\n",
      "Total Area Covered by  15  Towers\n",
      "----------------------------------------------------------------------------------\n",
      "7 Towers created\n",
      "Resolved Area Ratio = 1.00\n",
      "Cannot Create more Towers\n",
      "----------------------------------------------------------------------------------\n",
      "Total Area Covered by  7  Towers\n",
      "----------------------------------------------------------------------------------\n",
      "17 Towers created\n",
      "Resolved Area Ratio = 1.00\n",
      "Cannot Create more Towers\n",
      "----------------------------------------------------------------------------------\n",
      "Total Area Covered by  17  Towers\n",
      "----------------------------------------------------------------------------------\n",
      "Total Area Covered by  20  Towers\n",
      "----------------------------------------------------------------------------------\n",
      "Total Area Covered by  10  Towers\n",
      "----------------------------------------------------------------------------------\n",
      "24 Towers created\n",
      "Resolved Area Ratio = 1.00\n",
      "Cannot Create more Towers\n",
      "----------------------------------------------------------------------------------\n",
      "Total Area Covered by  24  Towers\n",
      "----------------------------------------------------------------------------------\n",
      "17 Towers created\n",
      "Resolved Area Ratio = 1.00\n",
      "Cannot Create more Towers\n",
      "----------------------------------------------------------------------------------\n",
      "Total Area Covered by  17  Towers\n",
      "----------------------------------------------------------------------------------\n",
      "18 Towers created\n",
      "Resolved Area Ratio = 1.00\n",
      "Cannot Create more Towers\n",
      "----------------------------------------------------------------------------------\n",
      "Total Area Covered by  18  Towers\n",
      "----------------------------------------------------------------------------------\n",
      "13 Towers created\n",
      "Resolved Area Ratio = 1.00\n",
      "Cannot Create more Towers\n",
      "----------------------------------------------------------------------------------\n",
      "Total Area Covered by  13  Towers\n",
      "----------------------------------------------------------------------------------\n",
      "8 Towers created\n",
      "Resolved Area Ratio = 1.00\n",
      "Cannot Create more Towers\n",
      "----------------------------------------------------------------------------------\n",
      "Total Area Covered by  8  Towers\n",
      "----------------------------------------------------------------------------------\n",
      "14 Towers created\n",
      "Resolved Area Ratio = 1.00\n",
      "Cannot Create more Towers\n",
      "----------------------------------------------------------------------------------\n",
      "Total Area Covered by  14  Towers\n",
      "----------------------------------------------------------------------------------\n",
      "14 Towers created\n",
      "Resolved Area Ratio = 1.00\n",
      "Cannot Create more Towers\n",
      "----------------------------------------------------------------------------------\n",
      "Total Area Covered by  14  Towers\n",
      "----------------------------------------------------------------------------------\n",
      "16 Towers created\n",
      "Resolved Area Ratio = 1.00\n",
      "Cannot Create more Towers\n",
      "----------------------------------------------------------------------------------\n",
      "Total Area Covered by  16  Towers\n",
      "----------------------------------------------------------------------------------\n",
      "9 Towers created\n",
      "Resolved Area Ratio = 1.00\n",
      "Cannot Create more Towers\n",
      "----------------------------------------------------------------------------------\n",
      "Total Area Covered by  9  Towers\n",
      "----------------------------------------------------------------------------------\n",
      "15 Towers created\n",
      "Resolved Area Ratio = 1.00\n",
      "Cannot Create more Towers\n",
      "----------------------------------------------------------------------------------\n",
      "Total Area Covered by  15  Towers\n",
      "----------------------------------------------------------------------------------\n",
      "13 Towers created\n",
      "Resolved Area Ratio = 1.00\n",
      "Cannot Create more Towers\n",
      "----------------------------------------------------------------------------------\n",
      "Total Area Covered by  13  Towers\n",
      "----------------------------------------------------------------------------------\n",
      "13 Towers created\n",
      "Resolved Area Ratio = 1.00\n",
      "Cannot Create more Towers\n",
      "----------------------------------------------------------------------------------\n",
      "Total Area Covered by  13  Towers\n",
      "----------------------------------------------------------------------------------\n",
      "12 Towers created\n",
      "Resolved Area Ratio = 1.00\n",
      "Cannot Create more Towers\n",
      "----------------------------------------------------------------------------------\n",
      "Total Area Covered by  12  Towers\n",
      "----------------------------------------------------------------------------------\n",
      "7 Towers created\n",
      "Resolved Area Ratio = 1.00\n",
      "Cannot Create more Towers\n",
      "----------------------------------------------------------------------------------\n",
      "Total Area Covered by  7  Towers\n",
      "----------------------------------------------------------------------------------\n",
      "8 Towers created\n",
      "Resolved Area Ratio = 1.00\n",
      "Cannot Create more Towers\n",
      "----------------------------------------------------------------------------------\n",
      "Total Area Covered by  8  Towers\n",
      "----------------------------------------------------------------------------------\n",
      "15 Towers created\n",
      "Resolved Area Ratio = 1.00\n",
      "Cannot Create more Towers\n",
      "----------------------------------------------------------------------------------\n",
      "Total Area Covered by  15  Towers\n",
      "----------------------------------------------------------------------------------\n",
      "12 Towers created\n",
      "Resolved Area Ratio = 1.00\n",
      "Cannot Create more Towers\n",
      "----------------------------------------------------------------------------------\n",
      "Total Area Covered by  12  Towers\n",
      "----------------------------------------------------------------------------------\n",
      "11 Towers created\n",
      "Resolved Area Ratio = 1.00\n",
      "Cannot Create more Towers\n",
      "----------------------------------------------------------------------------------\n",
      "Total Area Covered by  11  Towers\n",
      "----------------------------------------------------------------------------------\n",
      "Total Area Covered by  20  Towers\n",
      "----------------------------------------------------------------------------------\n",
      "15 Towers created\n",
      "Resolved Area Ratio = 1.00\n",
      "Cannot Create more Towers\n",
      "----------------------------------------------------------------------------------\n",
      "Total Area Covered by  15  Towers\n",
      "----------------------------------------------------------------------------------\n",
      "21 Towers created\n",
      "Resolved Area Ratio = 1.00\n",
      "Cannot Create more Towers\n",
      "----------------------------------------------------------------------------------\n",
      "Total Area Covered by  21  Towers\n",
      "----------------------------------------------------------------------------------\n",
      "21 Towers created\n",
      "Resolved Area Ratio = 1.00\n",
      "Cannot Create more Towers\n",
      "----------------------------------------------------------------------------------\n",
      "Total Area Covered by  21  Towers\n",
      "----------------------------------------------------------------------------------\n",
      "12 Towers created\n",
      "Resolved Area Ratio = 1.00\n",
      "Cannot Create more Towers\n",
      "----------------------------------------------------------------------------------\n",
      "Total Area Covered by  12  Towers\n",
      "----------------------------------------------------------------------------------\n",
      "14 Towers created\n",
      "Resolved Area Ratio = 1.00\n",
      "Cannot Create more Towers\n",
      "----------------------------------------------------------------------------------\n",
      "Total Area Covered by  14  Towers\n",
      "----------------------------------------------------------------------------------\n",
      "9 Towers created\n",
      "Resolved Area Ratio = 1.00\n",
      "Cannot Create more Towers\n",
      "----------------------------------------------------------------------------------\n",
      "Total Area Covered by  9  Towers\n",
      "----------------------------------------------------------------------------------\n",
      "7 Towers created\n",
      "Resolved Area Ratio = 1.00\n",
      "Cannot Create more Towers\n",
      "----------------------------------------------------------------------------------\n",
      "Total Area Covered by  7  Towers\n",
      "----------------------------------------------------------------------------------\n",
      "16 Towers created\n",
      "Resolved Area Ratio = 1.00\n",
      "Cannot Create more Towers\n",
      "----------------------------------------------------------------------------------\n",
      "Total Area Covered by  16  Towers\n",
      "----------------------------------------------------------------------------------\n",
      "18 Towers created\n",
      "Resolved Area Ratio = 1.00\n",
      "Cannot Create more Towers\n",
      "----------------------------------------------------------------------------------\n",
      "Total Area Covered by  18  Towers\n",
      "----------------------------------------------------------------------------------\n",
      "15 Towers created\n",
      "Resolved Area Ratio = 1.00\n",
      "Cannot Create more Towers\n"
     ]
    },
    {
     "name": "stdout",
     "output_type": "stream",
     "text": [
      "----------------------------------------------------------------------------------\n",
      "Total Area Covered by  15  Towers\n",
      "----------------------------------------------------------------------------------\n",
      "19 Towers created\n",
      "Resolved Area Ratio = 1.00\n",
      "Cannot Create more Towers\n",
      "----------------------------------------------------------------------------------\n",
      "Total Area Covered by  19  Towers\n",
      "----------------------------------------------------------------------------------\n",
      "5 Towers created\n",
      "Resolved Area Ratio = 1.00\n",
      "Cannot Create more Towers\n",
      "----------------------------------------------------------------------------------\n",
      "Total Area Covered by  5  Towers\n",
      "----------------------------------------------------------------------------------\n",
      "15 Towers created\n",
      "Resolved Area Ratio = 1.00\n",
      "Cannot Create more Towers\n",
      "----------------------------------------------------------------------------------\n",
      "Total Area Covered by  15  Towers\n",
      "----------------------------------------------------------------------------------\n",
      "8 Towers created\n",
      "Resolved Area Ratio = 1.00\n",
      "Cannot Create more Towers\n",
      "----------------------------------------------------------------------------------\n",
      "Total Area Covered by  8  Towers\n",
      "----------------------------------------------------------------------------------\n",
      "11 Towers created\n",
      "Resolved Area Ratio = 1.00\n",
      "Cannot Create more Towers\n",
      "----------------------------------------------------------------------------------\n",
      "Total Area Covered by  11  Towers\n",
      "----------------------------------------------------------------------------------\n",
      "3 Towers created\n",
      "Resolved Area Ratio = 1.00\n",
      "Cannot Create more Towers\n",
      "----------------------------------------------------------------------------------\n",
      "Total Area Covered by  3  Towers\n",
      "----------------------------------------------------------------------------------\n",
      "13 Towers created\n",
      "Resolved Area Ratio = 1.00\n",
      "Cannot Create more Towers\n",
      "----------------------------------------------------------------------------------\n",
      "Total Area Covered by  13  Towers\n",
      "----------------------------------------------------------------------------------\n",
      "13 Towers created\n",
      "Resolved Area Ratio = 1.00\n",
      "Cannot Create more Towers\n",
      "----------------------------------------------------------------------------------\n",
      "Total Area Covered by  13  Towers\n",
      "----------------------------------------------------------------------------------\n",
      "Total Area Covered by  10  Towers\n",
      "----------------------------------------------------------------------------------\n",
      "Total Area Covered by  20  Towers\n",
      "----------------------------------------------------------------------------------\n",
      "4 Towers created\n",
      "Resolved Area Ratio = 1.00\n",
      "Cannot Create more Towers\n",
      "----------------------------------------------------------------------------------\n",
      "Total Area Covered by  4  Towers\n",
      "----------------------------------------------------------------------------------\n",
      "13 Towers created\n",
      "Resolved Area Ratio = 1.00\n",
      "Cannot Create more Towers\n",
      "----------------------------------------------------------------------------------\n",
      "Total Area Covered by  13  Towers\n",
      "----------------------------------------------------------------------------------\n",
      "6 Towers created\n",
      "Resolved Area Ratio = 1.00\n",
      "Cannot Create more Towers\n",
      "----------------------------------------------------------------------------------\n",
      "Total Area Covered by  6  Towers\n",
      "----------------------------------------------------------------------------------\n",
      "8 Towers created\n",
      "Resolved Area Ratio = 1.00\n",
      "Cannot Create more Towers\n",
      "----------------------------------------------------------------------------------\n",
      "Total Area Covered by  8  Towers\n",
      "----------------------------------------------------------------------------------\n",
      "18 Towers created\n",
      "Resolved Area Ratio = 1.00\n",
      "Cannot Create more Towers\n",
      "----------------------------------------------------------------------------------\n",
      "Total Area Covered by  18  Towers\n",
      "----------------------------------------------------------------------------------\n",
      "13 Towers created\n",
      "Resolved Area Ratio = 1.00\n",
      "Cannot Create more Towers\n",
      "----------------------------------------------------------------------------------\n",
      "Total Area Covered by  13  Towers\n",
      "----------------------------------------------------------------------------------\n",
      "15 Towers created\n",
      "Resolved Area Ratio = 1.00\n",
      "Cannot Create more Towers\n",
      "----------------------------------------------------------------------------------\n",
      "Total Area Covered by  15  Towers\n",
      "----------------------------------------------------------------------------------\n",
      "8 Towers created\n",
      "Resolved Area Ratio = 1.00\n",
      "Cannot Create more Towers\n",
      "----------------------------------------------------------------------------------\n",
      "Total Area Covered by  8  Towers\n",
      "----------------------------------------------------------------------------------\n",
      "11 Towers created\n",
      "Resolved Area Ratio = 1.00\n",
      "Cannot Create more Towers\n",
      "----------------------------------------------------------------------------------\n",
      "Total Area Covered by  11  Towers\n",
      "----------------------------------------------------------------------------------\n",
      "19 Towers created\n",
      "Resolved Area Ratio = 1.00\n",
      "Cannot Create more Towers\n",
      "----------------------------------------------------------------------------------\n",
      "Total Area Covered by  19  Towers\n",
      "----------------------------------------------------------------------------------\n",
      "19 Towers created\n",
      "Resolved Area Ratio = 1.00\n",
      "Cannot Create more Towers\n",
      "----------------------------------------------------------------------------------\n",
      "Total Area Covered by  19  Towers\n",
      "----------------------------------------------------------------------------------\n",
      "16 Towers created\n",
      "Resolved Area Ratio = 1.00\n",
      "Cannot Create more Towers\n",
      "----------------------------------------------------------------------------------\n",
      "Total Area Covered by  16  Towers\n",
      "----------------------------------------------------------------------------------\n",
      "8 Towers created\n",
      "Resolved Area Ratio = 1.00\n",
      "Cannot Create more Towers\n",
      "----------------------------------------------------------------------------------\n",
      "Total Area Covered by  8  Towers\n",
      "----------------------------------------------------------------------------------\n",
      "1 Towers created\n",
      "Resolved Area Ratio = 1.00\n",
      "Cannot Create more Towers\n",
      "----------------------------------------------------------------------------------\n",
      "Total Area Covered by  1  Towers\n",
      "----------------------------------------------------------------------------------\n",
      "27 Towers created\n",
      "Resolved Area Ratio = 1.00\n",
      "Cannot Create more Towers\n",
      "----------------------------------------------------------------------------------\n",
      "Total Area Covered by  27  Towers\n",
      "----------------------------------------------------------------------------------\n",
      "13 Towers created\n",
      "Resolved Area Ratio = 1.00\n",
      "Cannot Create more Towers\n",
      "----------------------------------------------------------------------------------\n",
      "Total Area Covered by  13  Towers\n",
      "----------------------------------------------------------------------------------\n",
      "Total Area Covered by  10  Towers\n",
      "----------------------------------------------------------------------------------\n",
      "13 Towers created\n",
      "Resolved Area Ratio = 1.00\n",
      "Cannot Create more Towers\n",
      "----------------------------------------------------------------------------------\n",
      "Total Area Covered by  13  Towers\n",
      "----------------------------------------------------------------------------------\n",
      "11 Towers created\n",
      "Resolved Area Ratio = 1.00\n",
      "Cannot Create more Towers\n",
      "----------------------------------------------------------------------------------\n",
      "Total Area Covered by  11  Towers\n",
      "----------------------------------------------------------------------------------\n",
      "9 Towers created\n",
      "Resolved Area Ratio = 1.00\n",
      "Cannot Create more Towers\n",
      "----------------------------------------------------------------------------------\n",
      "Total Area Covered by  9  Towers\n",
      "----------------------------------------------------------------------------------\n",
      "16 Towers created\n",
      "Resolved Area Ratio = 1.00\n",
      "Cannot Create more Towers\n",
      "----------------------------------------------------------------------------------\n",
      "Total Area Covered by  16  Towers\n",
      "----------------------------------------------------------------------------------\n",
      "22 Towers created\n",
      "Resolved Area Ratio = 1.00\n",
      "Cannot Create more Towers\n",
      "----------------------------------------------------------------------------------\n",
      "Total Area Covered by  22  Towers\n",
      "----------------------------------------------------------------------------------\n",
      "15 Towers created\n",
      "Resolved Area Ratio = 1.00\n",
      "Cannot Create more Towers\n"
     ]
    },
    {
     "name": "stdout",
     "output_type": "stream",
     "text": [
      "----------------------------------------------------------------------------------\n",
      "Total Area Covered by  15  Towers\n",
      "----------------------------------------------------------------------------------\n",
      "7 Towers created\n",
      "Resolved Area Ratio = 1.00\n",
      "Cannot Create more Towers\n",
      "----------------------------------------------------------------------------------\n",
      "Total Area Covered by  7  Towers\n",
      "----------------------------------------------------------------------------------\n",
      "17 Towers created\n",
      "Resolved Area Ratio = 1.00\n",
      "Cannot Create more Towers\n",
      "----------------------------------------------------------------------------------\n",
      "Total Area Covered by  17  Towers\n",
      "----------------------------------------------------------------------------------\n",
      "12 Towers created\n",
      "Resolved Area Ratio = 1.00\n",
      "Cannot Create more Towers\n",
      "----------------------------------------------------------------------------------\n",
      "Total Area Covered by  12  Towers\n",
      "----------------------------------------------------------------------------------\n",
      "11 Towers created\n",
      "Resolved Area Ratio = 1.00\n",
      "Cannot Create more Towers\n",
      "----------------------------------------------------------------------------------\n",
      "Total Area Covered by  11  Towers\n",
      "----------------------------------------------------------------------------------\n",
      "21 Towers created\n",
      "Resolved Area Ratio = 1.00\n",
      "Cannot Create more Towers\n",
      "----------------------------------------------------------------------------------\n",
      "Total Area Covered by  21  Towers\n",
      "----------------------------------------------------------------------------------\n",
      "12 Towers created\n",
      "Resolved Area Ratio = 1.00\n",
      "Cannot Create more Towers\n",
      "----------------------------------------------------------------------------------\n",
      "Total Area Covered by  12  Towers\n",
      "----------------------------------------------------------------------------------\n",
      "3 Towers created\n",
      "Resolved Area Ratio = 1.00\n",
      "Cannot Create more Towers\n",
      "----------------------------------------------------------------------------------\n",
      "Total Area Covered by  3  Towers\n",
      "----------------------------------------------------------------------------------\n",
      "Total Area Covered by  20  Towers\n",
      "----------------------------------------------------------------------------------\n",
      "16 Towers created\n",
      "Resolved Area Ratio = 1.00\n",
      "Cannot Create more Towers\n",
      "----------------------------------------------------------------------------------\n",
      "Total Area Covered by  16  Towers\n",
      "----------------------------------------------------------------------------------\n",
      "25 Towers created\n",
      "Resolved Area Ratio = 1.00\n",
      "Cannot Create more Towers\n",
      "----------------------------------------------------------------------------------\n",
      "Total Area Covered by  25  Towers\n",
      "----------------------------------------------------------------------------------\n",
      "17 Towers created\n",
      "Resolved Area Ratio = 1.00\n",
      "Cannot Create more Towers\n",
      "----------------------------------------------------------------------------------\n",
      "Total Area Covered by  17  Towers\n",
      "----------------------------------------------------------------------------------\n",
      "13 Towers created\n",
      "Resolved Area Ratio = 1.00\n",
      "Cannot Create more Towers\n",
      "----------------------------------------------------------------------------------\n",
      "Total Area Covered by  13  Towers\n",
      "----------------------------------------------------------------------------------\n",
      "16 Towers created\n",
      "Resolved Area Ratio = 1.00\n",
      "Cannot Create more Towers\n",
      "----------------------------------------------------------------------------------\n",
      "Total Area Covered by  16  Towers\n",
      "----------------------------------------------------------------------------------\n",
      "Total Area Covered by  10  Towers\n",
      "----------------------------------------------------------------------------------\n",
      "16 Towers created\n",
      "Resolved Area Ratio = 1.00\n",
      "Cannot Create more Towers\n",
      "----------------------------------------------------------------------------------\n",
      "Total Area Covered by  16  Towers\n",
      "----------------------------------------------------------------------------------\n",
      "7 Towers created\n",
      "Resolved Area Ratio = 1.00\n",
      "Cannot Create more Towers\n",
      "----------------------------------------------------------------------------------\n",
      "Total Area Covered by  7  Towers\n",
      "----------------------------------------------------------------------------------\n",
      "15 Towers created\n",
      "Resolved Area Ratio = 1.00\n",
      "Cannot Create more Towers\n",
      "----------------------------------------------------------------------------------\n",
      "Total Area Covered by  15  Towers\n",
      "----------------------------------------------------------------------------------\n",
      "Total Area Covered by  10  Towers\n",
      "----------------------------------------------------------------------------------\n",
      "9 Towers created\n",
      "Resolved Area Ratio = 1.00\n",
      "Cannot Create more Towers\n",
      "----------------------------------------------------------------------------------\n",
      "Total Area Covered by  9  Towers\n",
      "----------------------------------------------------------------------------------\n",
      "11 Towers created\n",
      "Resolved Area Ratio = 1.00\n",
      "Cannot Create more Towers\n",
      "----------------------------------------------------------------------------------\n",
      "Total Area Covered by  11  Towers\n",
      "----------------------------------------------------------------------------------\n",
      "19 Towers created\n",
      "Resolved Area Ratio = 1.00\n",
      "Cannot Create more Towers\n",
      "----------------------------------------------------------------------------------\n",
      "Total Area Covered by  19  Towers\n",
      "----------------------------------------------------------------------------------\n",
      "9 Towers created\n",
      "Resolved Area Ratio = 1.00\n",
      "Cannot Create more Towers\n",
      "----------------------------------------------------------------------------------\n",
      "Total Area Covered by  9  Towers\n",
      "----------------------------------------------------------------------------------\n",
      "Total Area Covered by  10  Towers\n",
      "----------------------------------------------------------------------------------\n",
      "Total Area Covered by  10  Towers\n",
      "----------------------------------------------------------------------------------\n",
      "1 Towers created\n",
      "Resolved Area Ratio = 1.00\n",
      "Cannot Create more Towers\n",
      "----------------------------------------------------------------------------------\n",
      "Total Area Covered by  1  Towers\n",
      "----------------------------------------------------------------------------------\n",
      "16 Towers created\n",
      "Resolved Area Ratio = 1.00\n",
      "Cannot Create more Towers\n",
      "----------------------------------------------------------------------------------\n",
      "Total Area Covered by  16  Towers\n",
      "----------------------------------------------------------------------------------\n",
      "Total Area Covered by  20  Towers\n",
      "----------------------------------------------------------------------------------\n",
      "5 Towers created\n",
      "Resolved Area Ratio = 1.00\n",
      "Cannot Create more Towers\n",
      "----------------------------------------------------------------------------------\n",
      "Total Area Covered by  5  Towers\n",
      "----------------------------------------------------------------------------------\n",
      "9 Towers created\n",
      "Resolved Area Ratio = 1.00\n",
      "Cannot Create more Towers\n",
      "----------------------------------------------------------------------------------\n",
      "Total Area Covered by  9  Towers\n",
      "----------------------------------------------------------------------------------\n",
      "18 Towers created\n",
      "Resolved Area Ratio = 1.00\n",
      "Cannot Create more Towers\n",
      "----------------------------------------------------------------------------------\n",
      "Total Area Covered by  18  Towers\n",
      "----------------------------------------------------------------------------------\n",
      "14 Towers created\n",
      "Resolved Area Ratio = 1.00\n",
      "Cannot Create more Towers\n",
      "----------------------------------------------------------------------------------\n",
      "Total Area Covered by  14  Towers\n",
      "----------------------------------------------------------------------------------\n",
      "13 Towers created\n",
      "Resolved Area Ratio = 1.00\n",
      "Cannot Create more Towers\n",
      "----------------------------------------------------------------------------------\n",
      "Total Area Covered by  13  Towers\n",
      "----------------------------------------------------------------------------------\n",
      "15 Towers created\n",
      "Resolved Area Ratio = 1.00\n",
      "Cannot Create more Towers\n",
      "----------------------------------------------------------------------------------\n",
      "Total Area Covered by  15  Towers\n",
      "----------------------------------------------------------------------------------\n",
      "17 Towers created\n",
      "Resolved Area Ratio = 1.00\n",
      "Cannot Create more Towers\n",
      "----------------------------------------------------------------------------------\n"
     ]
    },
    {
     "name": "stdout",
     "output_type": "stream",
     "text": [
      "Total Area Covered by  17  Towers\n",
      "----------------------------------------------------------------------------------\n",
      "13 Towers created\n",
      "Resolved Area Ratio = 1.00\n",
      "Cannot Create more Towers\n",
      "----------------------------------------------------------------------------------\n",
      "Total Area Covered by  13  Towers\n",
      "----------------------------------------------------------------------------------\n",
      "13 Towers created\n",
      "Resolved Area Ratio = 1.00\n",
      "Cannot Create more Towers\n",
      "----------------------------------------------------------------------------------\n",
      "Total Area Covered by  13  Towers\n",
      "----------------------------------------------------------------------------------\n",
      "5 Towers created\n",
      "Resolved Area Ratio = 1.00\n",
      "Cannot Create more Towers\n",
      "----------------------------------------------------------------------------------\n",
      "Total Area Covered by  5  Towers\n",
      "----------------------------------------------------------------------------------\n",
      "12 Towers created\n",
      "Resolved Area Ratio = 1.00\n",
      "Cannot Create more Towers\n",
      "----------------------------------------------------------------------------------\n",
      "Total Area Covered by  12  Towers\n",
      "----------------------------------------------------------------------------------\n",
      "12 Towers created\n",
      "Resolved Area Ratio = 1.00\n",
      "Cannot Create more Towers\n",
      "----------------------------------------------------------------------------------\n",
      "Total Area Covered by  12  Towers\n",
      "----------------------------------------------------------------------------------\n",
      "18 Towers created\n",
      "Resolved Area Ratio = 1.00\n",
      "Cannot Create more Towers\n",
      "----------------------------------------------------------------------------------\n",
      "Total Area Covered by  18  Towers\n",
      "----------------------------------------------------------------------------------\n",
      "15 Towers created\n",
      "Resolved Area Ratio = 1.00\n",
      "Cannot Create more Towers\n",
      "----------------------------------------------------------------------------------\n",
      "Total Area Covered by  15  Towers\n",
      "----------------------------------------------------------------------------------\n",
      "5 Towers created\n",
      "Resolved Area Ratio = 1.00\n",
      "Cannot Create more Towers\n",
      "----------------------------------------------------------------------------------\n",
      "Total Area Covered by  5  Towers\n",
      "----------------------------------------------------------------------------------\n",
      "16 Towers created\n",
      "Resolved Area Ratio = 1.00\n",
      "Cannot Create more Towers\n",
      "----------------------------------------------------------------------------------\n",
      "Total Area Covered by  16  Towers\n",
      "----------------------------------------------------------------------------------\n",
      "19 Towers created\n",
      "Resolved Area Ratio = 1.00\n",
      "Cannot Create more Towers\n",
      "----------------------------------------------------------------------------------\n",
      "Total Area Covered by  19  Towers\n",
      "----------------------------------------------------------------------------------\n",
      "13 Towers created\n",
      "Resolved Area Ratio = 1.00\n",
      "Cannot Create more Towers\n",
      "----------------------------------------------------------------------------------\n",
      "Total Area Covered by  13  Towers\n",
      "----------------------------------------------------------------------------------\n",
      "9 Towers created\n",
      "Resolved Area Ratio = 1.00\n",
      "Cannot Create more Towers\n",
      "----------------------------------------------------------------------------------\n",
      "Total Area Covered by  9  Towers\n",
      "----------------------------------------------------------------------------------\n",
      "15 Towers created\n",
      "Resolved Area Ratio = 1.00\n",
      "Cannot Create more Towers\n",
      "----------------------------------------------------------------------------------\n",
      "Total Area Covered by  15  Towers\n",
      "----------------------------------------------------------------------------------\n",
      "9 Towers created\n",
      "Resolved Area Ratio = 1.00\n",
      "Cannot Create more Towers\n",
      "----------------------------------------------------------------------------------\n",
      "Total Area Covered by  9  Towers\n",
      "----------------------------------------------------------------------------------\n",
      "13 Towers created\n",
      "Resolved Area Ratio = 1.00\n",
      "Cannot Create more Towers\n",
      "----------------------------------------------------------------------------------\n",
      "Total Area Covered by  13  Towers\n",
      "----------------------------------------------------------------------------------\n",
      "12 Towers created\n",
      "Resolved Area Ratio = 1.00\n",
      "Cannot Create more Towers\n",
      "----------------------------------------------------------------------------------\n",
      "Total Area Covered by  12  Towers\n",
      "----------------------------------------------------------------------------------\n",
      "8 Towers created\n",
      "Resolved Area Ratio = 1.00\n",
      "Cannot Create more Towers\n",
      "----------------------------------------------------------------------------------\n",
      "Total Area Covered by  8  Towers\n",
      "----------------------------------------------------------------------------------\n",
      "17 Towers created\n",
      "Resolved Area Ratio = 1.00\n",
      "Cannot Create more Towers\n",
      "----------------------------------------------------------------------------------\n",
      "Total Area Covered by  17  Towers\n",
      "----------------------------------------------------------------------------------\n",
      "11 Towers created\n",
      "Resolved Area Ratio = 1.00\n",
      "Cannot Create more Towers\n",
      "----------------------------------------------------------------------------------\n",
      "Total Area Covered by  11  Towers\n",
      "----------------------------------------------------------------------------------\n",
      "8 Towers created\n",
      "Resolved Area Ratio = 1.00\n",
      "Cannot Create more Towers\n",
      "----------------------------------------------------------------------------------\n",
      "Total Area Covered by  8  Towers\n",
      "----------------------------------------------------------------------------------\n",
      "8 Towers created\n",
      "Resolved Area Ratio = 1.00\n",
      "Cannot Create more Towers\n",
      "----------------------------------------------------------------------------------\n",
      "Total Area Covered by  8  Towers\n",
      "----------------------------------------------------------------------------------\n",
      "13 Towers created\n",
      "Resolved Area Ratio = 1.00\n",
      "Cannot Create more Towers\n",
      "----------------------------------------------------------------------------------\n",
      "Total Area Covered by  13  Towers\n",
      "----------------------------------------------------------------------------------\n",
      "Total Area Covered by  10  Towers\n",
      "----------------------------------------------------------------------------------\n",
      "12 Towers created\n",
      "Resolved Area Ratio = 1.00\n",
      "Cannot Create more Towers\n",
      "----------------------------------------------------------------------------------\n",
      "Total Area Covered by  12  Towers\n",
      "----------------------------------------------------------------------------------\n",
      "17 Towers created\n",
      "Resolved Area Ratio = 1.00\n",
      "Cannot Create more Towers\n",
      "----------------------------------------------------------------------------------\n",
      "Total Area Covered by  17  Towers\n",
      "----------------------------------------------------------------------------------\n",
      "Total Area Covered by  10  Towers\n",
      "----------------------------------------------------------------------------------\n",
      "Total Area Covered by  10  Towers\n",
      "----------------------------------------------------------------------------------\n",
      "16 Towers created\n",
      "Resolved Area Ratio = 1.00\n",
      "Cannot Create more Towers\n",
      "----------------------------------------------------------------------------------\n",
      "Total Area Covered by  16  Towers\n",
      "----------------------------------------------------------------------------------\n",
      "11 Towers created\n",
      "Resolved Area Ratio = 1.00\n",
      "Cannot Create more Towers\n",
      "----------------------------------------------------------------------------------\n",
      "Total Area Covered by  11  Towers\n",
      "----------------------------------------------------------------------------------\n",
      "19 Towers created\n",
      "Resolved Area Ratio = 1.00\n",
      "Cannot Create more Towers\n",
      "----------------------------------------------------------------------------------\n",
      "Total Area Covered by  19  Towers\n",
      "----------------------------------------------------------------------------------\n",
      "13 Towers created\n",
      "Resolved Area Ratio = 1.00\n",
      "Cannot Create more Towers\n",
      "----------------------------------------------------------------------------------\n",
      "Total Area Covered by  13  Towers\n",
      "----------------------------------------------------------------------------------\n",
      "18 Towers created\n",
      "Resolved Area Ratio = 1.00\n",
      "Cannot Create more Towers\n",
      "----------------------------------------------------------------------------------\n",
      "Total Area Covered by  18  Towers\n",
      "----------------------------------------------------------------------------------\n",
      "18 Towers created\n",
      "Resolved Area Ratio = 1.00\n",
      "Cannot Create more Towers\n",
      "----------------------------------------------------------------------------------\n",
      "Total Area Covered by  18  Towers\n",
      "----------------------------------------------------------------------------------\n",
      "13 Towers created\n",
      "Resolved Area Ratio = 1.00\n",
      "Cannot Create more Towers\n",
      "----------------------------------------------------------------------------------\n",
      "Total Area Covered by  13  Towers\n",
      "----------------------------------------------------------------------------------\n"
     ]
    },
    {
     "name": "stdout",
     "output_type": "stream",
     "text": [
      "Total Area Covered by  20  Towers\n",
      "----------------------------------------------------------------------------------\n",
      "14 Towers created\n",
      "Resolved Area Ratio = 1.00\n",
      "Cannot Create more Towers\n",
      "----------------------------------------------------------------------------------\n",
      "Total Area Covered by  14  Towers\n",
      "----------------------------------------------------------------------------------\n",
      "17 Towers created\n",
      "Resolved Area Ratio = 1.00\n",
      "Cannot Create more Towers\n",
      "----------------------------------------------------------------------------------\n",
      "Total Area Covered by  17  Towers\n",
      "----------------------------------------------------------------------------------\n",
      "9 Towers created\n",
      "Resolved Area Ratio = 1.00\n",
      "Cannot Create more Towers\n",
      "----------------------------------------------------------------------------------\n",
      "Total Area Covered by  9  Towers\n",
      "----------------------------------------------------------------------------------\n",
      "21 Towers created\n",
      "Resolved Area Ratio = 1.00\n",
      "Cannot Create more Towers\n",
      "----------------------------------------------------------------------------------\n",
      "Total Area Covered by  21  Towers\n",
      "----------------------------------------------------------------------------------\n",
      "12 Towers created\n",
      "Resolved Area Ratio = 1.00\n",
      "Cannot Create more Towers\n",
      "----------------------------------------------------------------------------------\n",
      "Total Area Covered by  12  Towers\n",
      "----------------------------------------------------------------------------------\n",
      "14 Towers created\n",
      "Resolved Area Ratio = 1.00\n",
      "Cannot Create more Towers\n",
      "----------------------------------------------------------------------------------\n",
      "Total Area Covered by  14  Towers\n",
      "----------------------------------------------------------------------------------\n",
      "8 Towers created\n",
      "Resolved Area Ratio = 1.00\n",
      "Cannot Create more Towers\n",
      "----------------------------------------------------------------------------------\n",
      "Total Area Covered by  8  Towers\n",
      "----------------------------------------------------------------------------------\n",
      "14 Towers created\n",
      "Resolved Area Ratio = 1.00\n",
      "Cannot Create more Towers\n",
      "----------------------------------------------------------------------------------\n",
      "Total Area Covered by  14  Towers\n",
      "----------------------------------------------------------------------------------\n",
      "17 Towers created\n",
      "Resolved Area Ratio = 1.00\n",
      "Cannot Create more Towers\n",
      "----------------------------------------------------------------------------------\n",
      "Total Area Covered by  17  Towers\n",
      "----------------------------------------------------------------------------------\n",
      "15 Towers created\n",
      "Resolved Area Ratio = 1.00\n",
      "Cannot Create more Towers\n",
      "----------------------------------------------------------------------------------\n",
      "Total Area Covered by  15  Towers\n",
      "----------------------------------------------------------------------------------\n",
      "18 Towers created\n",
      "Resolved Area Ratio = 1.00\n",
      "Cannot Create more Towers\n",
      "----------------------------------------------------------------------------------\n",
      "Total Area Covered by  18  Towers\n",
      "----------------------------------------------------------------------------------\n",
      "9 Towers created\n",
      "Resolved Area Ratio = 1.00\n",
      "Cannot Create more Towers\n",
      "----------------------------------------------------------------------------------\n",
      "Total Area Covered by  9  Towers\n",
      "----------------------------------------------------------------------------------\n",
      "17 Towers created\n",
      "Resolved Area Ratio = 1.00\n",
      "Cannot Create more Towers\n",
      "----------------------------------------------------------------------------------\n",
      "Total Area Covered by  17  Towers\n",
      "----------------------------------------------------------------------------------\n"
     ]
    }
   ],
   "source": [
    "count_list = [] # This list stores the number of towers needed for full coverage each time full_coverage is called.\n",
    "for i in range(150):\n",
    "    Towers = []\n",
    "    mask = np.zeros((Area_height,Area_width))\n",
    "    full_coverage()\n",
    "    count_list.append(len(Towers))"
   ]
  },
  {
   "cell_type": "code",
   "execution_count": 39,
   "metadata": {},
   "outputs": [],
   "source": [
    "running_avg = [] # this list will store the running average of the number of towers required for different number of full_coverage calls\n",
    "score = 0\n",
    "for i in range(len(count_list)):\n",
    "    score += count_list[i]\n",
    "    running_avg.append(score/(i+1))"
   ]
  },
  {
   "cell_type": "markdown",
   "metadata": {},
   "source": [
    "On average it takes the following number of towers to cover the specified area"
   ]
  },
  {
   "cell_type": "code",
   "execution_count": 40,
   "metadata": {},
   "outputs": [
    {
     "data": {
      "text/plain": [
       "13.286666666666667"
      ]
     },
     "execution_count": 40,
     "metadata": {},
     "output_type": "execute_result"
    }
   ],
   "source": [
    "running_avg[-1]"
   ]
  },
  {
   "cell_type": "code",
   "execution_count": 41,
   "metadata": {
    "collapsed": true
   },
   "outputs": [],
   "source": [
    "plt.close()"
   ]
  },
  {
   "cell_type": "code",
   "execution_count": 44,
   "metadata": {
    "collapsed": true
   },
   "outputs": [],
   "source": [
    "plt.close()"
   ]
  },
  {
   "cell_type": "code",
   "execution_count": 45,
   "metadata": {},
   "outputs": [
    {
     "data": {
      "image/png": "[encoded data removed]",
      "text/plain": [
       "<matplotlib.figure.Figure at 0x23ae63eb9e8>"
      ]
     },
     "metadata": {},
     "output_type": "display_data"
    }
   ],
   "source": [
    "plt.figure()\n",
    "x = np.arange(150)\n",
    "plt.xlabel(\"full_coverage calls\")\n",
    "plt.ylabel(\"Running Average of Towers needed for full Coverage\")\n",
    "plt.plot(x,running_avg)\n",
    "plt.show()"
   ]
  },
  {
   "cell_type": "markdown",
   "metadata": {},
   "source": [
    "This graph of the running average shows that the running average is well approximated by running it full_coverage 150 times"
   ]
  },
  {
   "cell_type": "markdown",
   "metadata": {},
   "source": [
    "======================================================================================================================"
   ]
  }
 ],
 "metadata": {
  "kernelspec": {
   "display_name": "Python 3",
   "language": "python",
   "name": "python3"
  },
  "language_info": {
   "codemirror_mode": {
    "name": "ipython",
    "version": 3
   },
   "file_extension": ".py",
   "mimetype": "text/x-python",
   "name": "python",
   "nbconvert_exporter": "python",
   "pygments_lexer": "ipython3",
   "version": "3.6.4"
  }
 },
 "nbformat": 4,
 "nbformat_minor": 2
}
